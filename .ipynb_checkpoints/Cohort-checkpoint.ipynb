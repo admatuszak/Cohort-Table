{
 "cells": [
  {
   "cell_type": "code",
   "execution_count": 35,
   "metadata": {},
   "outputs": [],
   "source": [
    "import pandas as pd\n",
    "from Cohort import CohortTable"
   ]
  },
  {
   "cell_type": "code",
   "execution_count": 66,
   "metadata": {},
   "outputs": [
    {
     "data": {
      "text/markdown": [
       "## Productivity Table"
      ],
      "text/plain": [
       "<IPython.core.display.Markdown object>"
      ]
     },
     "metadata": {},
     "output_type": "display_data"
    },
    {
     "data": {
      "text/markdown": [
       "The following table contains the percentage of productivity for each cohort by year."
      ],
      "text/plain": [
       "<IPython.core.display.Markdown object>"
      ]
     },
     "metadata": {},
     "output_type": "display_data"
    },
    {
     "data": {
      "text/markdown": [
       "The maximum percentage for each cell is 100% or 1. Any value less than 1 is used to discount the         productivity of that cohort class for that particular year.\n"
      ],
      "text/plain": [
       "<IPython.core.display.Markdown object>"
      ]
     },
     "metadata": {},
     "output_type": "display_data"
    },
    {
     "data": {
      "text/html": [
       "<style  type=\"text/css\" >\n",
       "</style><table id=\"T_5c575fc0_671a_11eb_8b20_f48c50bdd08e\" ><caption>Productivity Table</caption><thead>    <tr>        <th class=\"blank level0\" ></th>        <th class=\"col_heading level0 col0\" >0</th>        <th class=\"col_heading level0 col1\" >1</th>        <th class=\"col_heading level0 col2\" >2</th>        <th class=\"col_heading level0 col3\" >3</th>        <th class=\"col_heading level0 col4\" >4</th>        <th class=\"col_heading level0 col5\" >5</th>        <th class=\"col_heading level0 col6\" >6</th>    </tr>    <tr>        <th class=\"index_name level0\" >Cohort</th>        <th class=\"blank\" ></th>        <th class=\"blank\" ></th>        <th class=\"blank\" ></th>        <th class=\"blank\" ></th>        <th class=\"blank\" ></th>        <th class=\"blank\" ></th>        <th class=\"blank\" ></th>    </tr></thead><tbody>\n",
       "                <tr>\n",
       "                        <th id=\"T_5c575fc0_671a_11eb_8b20_f48c50bdd08elevel0_row0\" class=\"row_heading level0 row0\" >0</th>\n",
       "                        <td id=\"T_5c575fc0_671a_11eb_8b20_f48c50bdd08erow0_col0\" class=\"data row0 col0\" >0.25</td>\n",
       "                        <td id=\"T_5c575fc0_671a_11eb_8b20_f48c50bdd08erow0_col1\" class=\"data row0 col1\" >0.50</td>\n",
       "                        <td id=\"T_5c575fc0_671a_11eb_8b20_f48c50bdd08erow0_col2\" class=\"data row0 col2\" >0.75</td>\n",
       "                        <td id=\"T_5c575fc0_671a_11eb_8b20_f48c50bdd08erow0_col3\" class=\"data row0 col3\" >1.00</td>\n",
       "                        <td id=\"T_5c575fc0_671a_11eb_8b20_f48c50bdd08erow0_col4\" class=\"data row0 col4\" >1.00</td>\n",
       "                        <td id=\"T_5c575fc0_671a_11eb_8b20_f48c50bdd08erow0_col5\" class=\"data row0 col5\" >1.00</td>\n",
       "                        <td id=\"T_5c575fc0_671a_11eb_8b20_f48c50bdd08erow0_col6\" class=\"data row0 col6\" >1.00</td>\n",
       "            </tr>\n",
       "            <tr>\n",
       "                        <th id=\"T_5c575fc0_671a_11eb_8b20_f48c50bdd08elevel0_row1\" class=\"row_heading level0 row1\" >1</th>\n",
       "                        <td id=\"T_5c575fc0_671a_11eb_8b20_f48c50bdd08erow1_col0\" class=\"data row1 col0\" >0.00</td>\n",
       "                        <td id=\"T_5c575fc0_671a_11eb_8b20_f48c50bdd08erow1_col1\" class=\"data row1 col1\" >0.25</td>\n",
       "                        <td id=\"T_5c575fc0_671a_11eb_8b20_f48c50bdd08erow1_col2\" class=\"data row1 col2\" >0.50</td>\n",
       "                        <td id=\"T_5c575fc0_671a_11eb_8b20_f48c50bdd08erow1_col3\" class=\"data row1 col3\" >0.75</td>\n",
       "                        <td id=\"T_5c575fc0_671a_11eb_8b20_f48c50bdd08erow1_col4\" class=\"data row1 col4\" >1.00</td>\n",
       "                        <td id=\"T_5c575fc0_671a_11eb_8b20_f48c50bdd08erow1_col5\" class=\"data row1 col5\" >1.00</td>\n",
       "                        <td id=\"T_5c575fc0_671a_11eb_8b20_f48c50bdd08erow1_col6\" class=\"data row1 col6\" >1.00</td>\n",
       "            </tr>\n",
       "            <tr>\n",
       "                        <th id=\"T_5c575fc0_671a_11eb_8b20_f48c50bdd08elevel0_row2\" class=\"row_heading level0 row2\" >2</th>\n",
       "                        <td id=\"T_5c575fc0_671a_11eb_8b20_f48c50bdd08erow2_col0\" class=\"data row2 col0\" >0.00</td>\n",
       "                        <td id=\"T_5c575fc0_671a_11eb_8b20_f48c50bdd08erow2_col1\" class=\"data row2 col1\" >0.00</td>\n",
       "                        <td id=\"T_5c575fc0_671a_11eb_8b20_f48c50bdd08erow2_col2\" class=\"data row2 col2\" >0.25</td>\n",
       "                        <td id=\"T_5c575fc0_671a_11eb_8b20_f48c50bdd08erow2_col3\" class=\"data row2 col3\" >0.50</td>\n",
       "                        <td id=\"T_5c575fc0_671a_11eb_8b20_f48c50bdd08erow2_col4\" class=\"data row2 col4\" >0.75</td>\n",
       "                        <td id=\"T_5c575fc0_671a_11eb_8b20_f48c50bdd08erow2_col5\" class=\"data row2 col5\" >1.00</td>\n",
       "                        <td id=\"T_5c575fc0_671a_11eb_8b20_f48c50bdd08erow2_col6\" class=\"data row2 col6\" >1.00</td>\n",
       "            </tr>\n",
       "            <tr>\n",
       "                        <th id=\"T_5c575fc0_671a_11eb_8b20_f48c50bdd08elevel0_row3\" class=\"row_heading level0 row3\" >3</th>\n",
       "                        <td id=\"T_5c575fc0_671a_11eb_8b20_f48c50bdd08erow3_col0\" class=\"data row3 col0\" >0.00</td>\n",
       "                        <td id=\"T_5c575fc0_671a_11eb_8b20_f48c50bdd08erow3_col1\" class=\"data row3 col1\" >0.00</td>\n",
       "                        <td id=\"T_5c575fc0_671a_11eb_8b20_f48c50bdd08erow3_col2\" class=\"data row3 col2\" >0.00</td>\n",
       "                        <td id=\"T_5c575fc0_671a_11eb_8b20_f48c50bdd08erow3_col3\" class=\"data row3 col3\" >0.25</td>\n",
       "                        <td id=\"T_5c575fc0_671a_11eb_8b20_f48c50bdd08erow3_col4\" class=\"data row3 col4\" >0.50</td>\n",
       "                        <td id=\"T_5c575fc0_671a_11eb_8b20_f48c50bdd08erow3_col5\" class=\"data row3 col5\" >0.75</td>\n",
       "                        <td id=\"T_5c575fc0_671a_11eb_8b20_f48c50bdd08erow3_col6\" class=\"data row3 col6\" >1.00</td>\n",
       "            </tr>\n",
       "            <tr>\n",
       "                        <th id=\"T_5c575fc0_671a_11eb_8b20_f48c50bdd08elevel0_row4\" class=\"row_heading level0 row4\" >4</th>\n",
       "                        <td id=\"T_5c575fc0_671a_11eb_8b20_f48c50bdd08erow4_col0\" class=\"data row4 col0\" >0.00</td>\n",
       "                        <td id=\"T_5c575fc0_671a_11eb_8b20_f48c50bdd08erow4_col1\" class=\"data row4 col1\" >0.00</td>\n",
       "                        <td id=\"T_5c575fc0_671a_11eb_8b20_f48c50bdd08erow4_col2\" class=\"data row4 col2\" >0.00</td>\n",
       "                        <td id=\"T_5c575fc0_671a_11eb_8b20_f48c50bdd08erow4_col3\" class=\"data row4 col3\" >0.00</td>\n",
       "                        <td id=\"T_5c575fc0_671a_11eb_8b20_f48c50bdd08erow4_col4\" class=\"data row4 col4\" >0.25</td>\n",
       "                        <td id=\"T_5c575fc0_671a_11eb_8b20_f48c50bdd08erow4_col5\" class=\"data row4 col5\" >0.50</td>\n",
       "                        <td id=\"T_5c575fc0_671a_11eb_8b20_f48c50bdd08erow4_col6\" class=\"data row4 col6\" >0.75</td>\n",
       "            </tr>\n",
       "            <tr>\n",
       "                        <th id=\"T_5c575fc0_671a_11eb_8b20_f48c50bdd08elevel0_row5\" class=\"row_heading level0 row5\" >5</th>\n",
       "                        <td id=\"T_5c575fc0_671a_11eb_8b20_f48c50bdd08erow5_col0\" class=\"data row5 col0\" >0.00</td>\n",
       "                        <td id=\"T_5c575fc0_671a_11eb_8b20_f48c50bdd08erow5_col1\" class=\"data row5 col1\" >0.00</td>\n",
       "                        <td id=\"T_5c575fc0_671a_11eb_8b20_f48c50bdd08erow5_col2\" class=\"data row5 col2\" >0.00</td>\n",
       "                        <td id=\"T_5c575fc0_671a_11eb_8b20_f48c50bdd08erow5_col3\" class=\"data row5 col3\" >0.00</td>\n",
       "                        <td id=\"T_5c575fc0_671a_11eb_8b20_f48c50bdd08erow5_col4\" class=\"data row5 col4\" >0.00</td>\n",
       "                        <td id=\"T_5c575fc0_671a_11eb_8b20_f48c50bdd08erow5_col5\" class=\"data row5 col5\" >0.25</td>\n",
       "                        <td id=\"T_5c575fc0_671a_11eb_8b20_f48c50bdd08erow5_col6\" class=\"data row5 col6\" >0.50</td>\n",
       "            </tr>\n",
       "            <tr>\n",
       "                        <th id=\"T_5c575fc0_671a_11eb_8b20_f48c50bdd08elevel0_row6\" class=\"row_heading level0 row6\" >6</th>\n",
       "                        <td id=\"T_5c575fc0_671a_11eb_8b20_f48c50bdd08erow6_col0\" class=\"data row6 col0\" >0.00</td>\n",
       "                        <td id=\"T_5c575fc0_671a_11eb_8b20_f48c50bdd08erow6_col1\" class=\"data row6 col1\" >0.00</td>\n",
       "                        <td id=\"T_5c575fc0_671a_11eb_8b20_f48c50bdd08erow6_col2\" class=\"data row6 col2\" >0.00</td>\n",
       "                        <td id=\"T_5c575fc0_671a_11eb_8b20_f48c50bdd08erow6_col3\" class=\"data row6 col3\" >0.00</td>\n",
       "                        <td id=\"T_5c575fc0_671a_11eb_8b20_f48c50bdd08erow6_col4\" class=\"data row6 col4\" >0.00</td>\n",
       "                        <td id=\"T_5c575fc0_671a_11eb_8b20_f48c50bdd08erow6_col5\" class=\"data row6 col5\" >0.00</td>\n",
       "                        <td id=\"T_5c575fc0_671a_11eb_8b20_f48c50bdd08erow6_col6\" class=\"data row6 col6\" >0.25</td>\n",
       "            </tr>\n",
       "    </tbody></table>"
      ],
      "text/plain": [
       "<pandas.io.formats.style.Styler at 0xa6d22b0>"
      ]
     },
     "metadata": {},
     "output_type": "display_data"
    },
    {
     "data": {
      "text/markdown": [
       "## Employee Count before Attrition"
      ],
      "text/plain": [
       "<IPython.core.display.Markdown object>"
      ]
     },
     "metadata": {},
     "output_type": "display_data"
    },
    {
     "data": {
      "text/markdown": [
       "This table for each year, by each cohort, if no attrition were to occur.\n"
      ],
      "text/plain": [
       "<IPython.core.display.Markdown object>"
      ]
     },
     "metadata": {},
     "output_type": "display_data"
    },
    {
     "data": {
      "text/html": [
       "<style  type=\"text/css\" >\n",
       "</style><table id=\"T_5c5a1cfe_671a_11eb_81c9_f48c50bdd08e\" ><caption>Employee Count (Before Attrition) by Year</caption><thead>    <tr>        <th class=\"blank level0\" ></th>        <th class=\"col_heading level0 col0\" >0</th>        <th class=\"col_heading level0 col1\" >1</th>        <th class=\"col_heading level0 col2\" >2</th>        <th class=\"col_heading level0 col3\" >3</th>        <th class=\"col_heading level0 col4\" >4</th>        <th class=\"col_heading level0 col5\" >5</th>        <th class=\"col_heading level0 col6\" >6</th>    </tr>    <tr>        <th class=\"index_name level0\" >Cohort</th>        <th class=\"blank\" ></th>        <th class=\"blank\" ></th>        <th class=\"blank\" ></th>        <th class=\"blank\" ></th>        <th class=\"blank\" ></th>        <th class=\"blank\" ></th>        <th class=\"blank\" ></th>    </tr></thead><tbody>\n",
       "                <tr>\n",
       "                        <th id=\"T_5c5a1cfe_671a_11eb_81c9_f48c50bdd08elevel0_row0\" class=\"row_heading level0 row0\" >0</th>\n",
       "                        <td id=\"T_5c5a1cfe_671a_11eb_81c9_f48c50bdd08erow0_col0\" class=\"data row0 col0\" >2</td>\n",
       "                        <td id=\"T_5c5a1cfe_671a_11eb_81c9_f48c50bdd08erow0_col1\" class=\"data row0 col1\" >2</td>\n",
       "                        <td id=\"T_5c5a1cfe_671a_11eb_81c9_f48c50bdd08erow0_col2\" class=\"data row0 col2\" >2</td>\n",
       "                        <td id=\"T_5c5a1cfe_671a_11eb_81c9_f48c50bdd08erow0_col3\" class=\"data row0 col3\" >2</td>\n",
       "                        <td id=\"T_5c5a1cfe_671a_11eb_81c9_f48c50bdd08erow0_col4\" class=\"data row0 col4\" >2</td>\n",
       "                        <td id=\"T_5c5a1cfe_671a_11eb_81c9_f48c50bdd08erow0_col5\" class=\"data row0 col5\" >2</td>\n",
       "                        <td id=\"T_5c5a1cfe_671a_11eb_81c9_f48c50bdd08erow0_col6\" class=\"data row0 col6\" >2</td>\n",
       "            </tr>\n",
       "            <tr>\n",
       "                        <th id=\"T_5c5a1cfe_671a_11eb_81c9_f48c50bdd08elevel0_row1\" class=\"row_heading level0 row1\" >1</th>\n",
       "                        <td id=\"T_5c5a1cfe_671a_11eb_81c9_f48c50bdd08erow1_col0\" class=\"data row1 col0\" >0</td>\n",
       "                        <td id=\"T_5c5a1cfe_671a_11eb_81c9_f48c50bdd08erow1_col1\" class=\"data row1 col1\" >2</td>\n",
       "                        <td id=\"T_5c5a1cfe_671a_11eb_81c9_f48c50bdd08erow1_col2\" class=\"data row1 col2\" >2</td>\n",
       "                        <td id=\"T_5c5a1cfe_671a_11eb_81c9_f48c50bdd08erow1_col3\" class=\"data row1 col3\" >2</td>\n",
       "                        <td id=\"T_5c5a1cfe_671a_11eb_81c9_f48c50bdd08erow1_col4\" class=\"data row1 col4\" >2</td>\n",
       "                        <td id=\"T_5c5a1cfe_671a_11eb_81c9_f48c50bdd08erow1_col5\" class=\"data row1 col5\" >2</td>\n",
       "                        <td id=\"T_5c5a1cfe_671a_11eb_81c9_f48c50bdd08erow1_col6\" class=\"data row1 col6\" >2</td>\n",
       "            </tr>\n",
       "            <tr>\n",
       "                        <th id=\"T_5c5a1cfe_671a_11eb_81c9_f48c50bdd08elevel0_row2\" class=\"row_heading level0 row2\" >2</th>\n",
       "                        <td id=\"T_5c5a1cfe_671a_11eb_81c9_f48c50bdd08erow2_col0\" class=\"data row2 col0\" >0</td>\n",
       "                        <td id=\"T_5c5a1cfe_671a_11eb_81c9_f48c50bdd08erow2_col1\" class=\"data row2 col1\" >0</td>\n",
       "                        <td id=\"T_5c5a1cfe_671a_11eb_81c9_f48c50bdd08erow2_col2\" class=\"data row2 col2\" >2</td>\n",
       "                        <td id=\"T_5c5a1cfe_671a_11eb_81c9_f48c50bdd08erow2_col3\" class=\"data row2 col3\" >2</td>\n",
       "                        <td id=\"T_5c5a1cfe_671a_11eb_81c9_f48c50bdd08erow2_col4\" class=\"data row2 col4\" >2</td>\n",
       "                        <td id=\"T_5c5a1cfe_671a_11eb_81c9_f48c50bdd08erow2_col5\" class=\"data row2 col5\" >2</td>\n",
       "                        <td id=\"T_5c5a1cfe_671a_11eb_81c9_f48c50bdd08erow2_col6\" class=\"data row2 col6\" >2</td>\n",
       "            </tr>\n",
       "            <tr>\n",
       "                        <th id=\"T_5c5a1cfe_671a_11eb_81c9_f48c50bdd08elevel0_row3\" class=\"row_heading level0 row3\" >3</th>\n",
       "                        <td id=\"T_5c5a1cfe_671a_11eb_81c9_f48c50bdd08erow3_col0\" class=\"data row3 col0\" >0</td>\n",
       "                        <td id=\"T_5c5a1cfe_671a_11eb_81c9_f48c50bdd08erow3_col1\" class=\"data row3 col1\" >0</td>\n",
       "                        <td id=\"T_5c5a1cfe_671a_11eb_81c9_f48c50bdd08erow3_col2\" class=\"data row3 col2\" >0</td>\n",
       "                        <td id=\"T_5c5a1cfe_671a_11eb_81c9_f48c50bdd08erow3_col3\" class=\"data row3 col3\" >3</td>\n",
       "                        <td id=\"T_5c5a1cfe_671a_11eb_81c9_f48c50bdd08erow3_col4\" class=\"data row3 col4\" >3</td>\n",
       "                        <td id=\"T_5c5a1cfe_671a_11eb_81c9_f48c50bdd08erow3_col5\" class=\"data row3 col5\" >3</td>\n",
       "                        <td id=\"T_5c5a1cfe_671a_11eb_81c9_f48c50bdd08erow3_col6\" class=\"data row3 col6\" >3</td>\n",
       "            </tr>\n",
       "            <tr>\n",
       "                        <th id=\"T_5c5a1cfe_671a_11eb_81c9_f48c50bdd08elevel0_row4\" class=\"row_heading level0 row4\" >4</th>\n",
       "                        <td id=\"T_5c5a1cfe_671a_11eb_81c9_f48c50bdd08erow4_col0\" class=\"data row4 col0\" >0</td>\n",
       "                        <td id=\"T_5c5a1cfe_671a_11eb_81c9_f48c50bdd08erow4_col1\" class=\"data row4 col1\" >0</td>\n",
       "                        <td id=\"T_5c5a1cfe_671a_11eb_81c9_f48c50bdd08erow4_col2\" class=\"data row4 col2\" >0</td>\n",
       "                        <td id=\"T_5c5a1cfe_671a_11eb_81c9_f48c50bdd08erow4_col3\" class=\"data row4 col3\" >0</td>\n",
       "                        <td id=\"T_5c5a1cfe_671a_11eb_81c9_f48c50bdd08erow4_col4\" class=\"data row4 col4\" >4</td>\n",
       "                        <td id=\"T_5c5a1cfe_671a_11eb_81c9_f48c50bdd08erow4_col5\" class=\"data row4 col5\" >4</td>\n",
       "                        <td id=\"T_5c5a1cfe_671a_11eb_81c9_f48c50bdd08erow4_col6\" class=\"data row4 col6\" >4</td>\n",
       "            </tr>\n",
       "            <tr>\n",
       "                        <th id=\"T_5c5a1cfe_671a_11eb_81c9_f48c50bdd08elevel0_row5\" class=\"row_heading level0 row5\" >5</th>\n",
       "                        <td id=\"T_5c5a1cfe_671a_11eb_81c9_f48c50bdd08erow5_col0\" class=\"data row5 col0\" >0</td>\n",
       "                        <td id=\"T_5c5a1cfe_671a_11eb_81c9_f48c50bdd08erow5_col1\" class=\"data row5 col1\" >0</td>\n",
       "                        <td id=\"T_5c5a1cfe_671a_11eb_81c9_f48c50bdd08erow5_col2\" class=\"data row5 col2\" >0</td>\n",
       "                        <td id=\"T_5c5a1cfe_671a_11eb_81c9_f48c50bdd08erow5_col3\" class=\"data row5 col3\" >0</td>\n",
       "                        <td id=\"T_5c5a1cfe_671a_11eb_81c9_f48c50bdd08erow5_col4\" class=\"data row5 col4\" >0</td>\n",
       "                        <td id=\"T_5c5a1cfe_671a_11eb_81c9_f48c50bdd08erow5_col5\" class=\"data row5 col5\" >6</td>\n",
       "                        <td id=\"T_5c5a1cfe_671a_11eb_81c9_f48c50bdd08erow5_col6\" class=\"data row5 col6\" >6</td>\n",
       "            </tr>\n",
       "            <tr>\n",
       "                        <th id=\"T_5c5a1cfe_671a_11eb_81c9_f48c50bdd08elevel0_row6\" class=\"row_heading level0 row6\" >6</th>\n",
       "                        <td id=\"T_5c5a1cfe_671a_11eb_81c9_f48c50bdd08erow6_col0\" class=\"data row6 col0\" >0</td>\n",
       "                        <td id=\"T_5c5a1cfe_671a_11eb_81c9_f48c50bdd08erow6_col1\" class=\"data row6 col1\" >0</td>\n",
       "                        <td id=\"T_5c5a1cfe_671a_11eb_81c9_f48c50bdd08erow6_col2\" class=\"data row6 col2\" >0</td>\n",
       "                        <td id=\"T_5c5a1cfe_671a_11eb_81c9_f48c50bdd08erow6_col3\" class=\"data row6 col3\" >0</td>\n",
       "                        <td id=\"T_5c5a1cfe_671a_11eb_81c9_f48c50bdd08erow6_col4\" class=\"data row6 col4\" >0</td>\n",
       "                        <td id=\"T_5c5a1cfe_671a_11eb_81c9_f48c50bdd08erow6_col5\" class=\"data row6 col5\" >0</td>\n",
       "                        <td id=\"T_5c5a1cfe_671a_11eb_81c9_f48c50bdd08erow6_col6\" class=\"data row6 col6\" >0</td>\n",
       "            </tr>\n",
       "            <tr>\n",
       "                        <th id=\"T_5c5a1cfe_671a_11eb_81c9_f48c50bdd08elevel0_row7\" class=\"row_heading level0 row7\" >Sum of Employees</th>\n",
       "                        <td id=\"T_5c5a1cfe_671a_11eb_81c9_f48c50bdd08erow7_col0\" class=\"data row7 col0\" >2</td>\n",
       "                        <td id=\"T_5c5a1cfe_671a_11eb_81c9_f48c50bdd08erow7_col1\" class=\"data row7 col1\" >4</td>\n",
       "                        <td id=\"T_5c5a1cfe_671a_11eb_81c9_f48c50bdd08erow7_col2\" class=\"data row7 col2\" >6</td>\n",
       "                        <td id=\"T_5c5a1cfe_671a_11eb_81c9_f48c50bdd08erow7_col3\" class=\"data row7 col3\" >9</td>\n",
       "                        <td id=\"T_5c5a1cfe_671a_11eb_81c9_f48c50bdd08erow7_col4\" class=\"data row7 col4\" >13</td>\n",
       "                        <td id=\"T_5c5a1cfe_671a_11eb_81c9_f48c50bdd08erow7_col5\" class=\"data row7 col5\" >19</td>\n",
       "                        <td id=\"T_5c5a1cfe_671a_11eb_81c9_f48c50bdd08erow7_col6\" class=\"data row7 col6\" >19</td>\n",
       "            </tr>\n",
       "    </tbody></table>"
      ],
      "text/plain": [
       "<pandas.io.formats.style.Styler at 0x891f0d0>"
      ]
     },
     "metadata": {},
     "output_type": "display_data"
    },
    {
     "data": {
      "text/markdown": [
       "## Attrition Mask Table"
      ],
      "text/plain": [
       "<IPython.core.display.Markdown object>"
      ]
     },
     "metadata": {},
     "output_type": "display_data"
    },
    {
     "data": {
      "text/markdown": [
       "This table represents the *percentage* of the cohort **population** that has left. It is cummulative; the number         starts at zero at increases to 100%, at which point the entire cohort has left the company.\n"
      ],
      "text/plain": [
       "<IPython.core.display.Markdown object>"
      ]
     },
     "metadata": {},
     "output_type": "display_data"
    },
    {
     "data": {
      "text/html": [
       "<style  type=\"text/css\" >\n",
       "</style><table id=\"T_5c5bf088_671a_11eb_8034_f48c50bdd08e\" ><caption>Attrition Mask - 0% to 100% of Employee Count</caption><thead>    <tr>        <th class=\"blank level0\" ></th>        <th class=\"col_heading level0 col0\" >0</th>        <th class=\"col_heading level0 col1\" >1</th>        <th class=\"col_heading level0 col2\" >2</th>        <th class=\"col_heading level0 col3\" >3</th>        <th class=\"col_heading level0 col4\" >4</th>        <th class=\"col_heading level0 col5\" >5</th>        <th class=\"col_heading level0 col6\" >6</th>    </tr>    <tr>        <th class=\"index_name level0\" >Cohort</th>        <th class=\"blank\" ></th>        <th class=\"blank\" ></th>        <th class=\"blank\" ></th>        <th class=\"blank\" ></th>        <th class=\"blank\" ></th>        <th class=\"blank\" ></th>        <th class=\"blank\" ></th>    </tr></thead><tbody>\n",
       "                <tr>\n",
       "                        <th id=\"T_5c5bf088_671a_11eb_8034_f48c50bdd08elevel0_row0\" class=\"row_heading level0 row0\" >0</th>\n",
       "                        <td id=\"T_5c5bf088_671a_11eb_8034_f48c50bdd08erow0_col0\" class=\"data row0 col0\" >0.16</td>\n",
       "                        <td id=\"T_5c5bf088_671a_11eb_8034_f48c50bdd08erow0_col1\" class=\"data row0 col1\" >0.35</td>\n",
       "                        <td id=\"T_5c5bf088_671a_11eb_8034_f48c50bdd08erow0_col2\" class=\"data row0 col2\" >0.56</td>\n",
       "                        <td id=\"T_5c5bf088_671a_11eb_8034_f48c50bdd08erow0_col3\" class=\"data row0 col3\" >0.81</td>\n",
       "                        <td id=\"T_5c5bf088_671a_11eb_8034_f48c50bdd08erow0_col4\" class=\"data row0 col4\" >1.00</td>\n",
       "                        <td id=\"T_5c5bf088_671a_11eb_8034_f48c50bdd08erow0_col5\" class=\"data row0 col5\" >1.00</td>\n",
       "                        <td id=\"T_5c5bf088_671a_11eb_8034_f48c50bdd08erow0_col6\" class=\"data row0 col6\" >1.00</td>\n",
       "            </tr>\n",
       "            <tr>\n",
       "                        <th id=\"T_5c5bf088_671a_11eb_8034_f48c50bdd08elevel0_row1\" class=\"row_heading level0 row1\" >1</th>\n",
       "                        <td id=\"T_5c5bf088_671a_11eb_8034_f48c50bdd08erow1_col0\" class=\"data row1 col0\" >0.00</td>\n",
       "                        <td id=\"T_5c5bf088_671a_11eb_8034_f48c50bdd08erow1_col1\" class=\"data row1 col1\" >0.16</td>\n",
       "                        <td id=\"T_5c5bf088_671a_11eb_8034_f48c50bdd08erow1_col2\" class=\"data row1 col2\" >0.35</td>\n",
       "                        <td id=\"T_5c5bf088_671a_11eb_8034_f48c50bdd08erow1_col3\" class=\"data row1 col3\" >0.56</td>\n",
       "                        <td id=\"T_5c5bf088_671a_11eb_8034_f48c50bdd08erow1_col4\" class=\"data row1 col4\" >0.81</td>\n",
       "                        <td id=\"T_5c5bf088_671a_11eb_8034_f48c50bdd08erow1_col5\" class=\"data row1 col5\" >1.00</td>\n",
       "                        <td id=\"T_5c5bf088_671a_11eb_8034_f48c50bdd08erow1_col6\" class=\"data row1 col6\" >1.00</td>\n",
       "            </tr>\n",
       "            <tr>\n",
       "                        <th id=\"T_5c5bf088_671a_11eb_8034_f48c50bdd08elevel0_row2\" class=\"row_heading level0 row2\" >2</th>\n",
       "                        <td id=\"T_5c5bf088_671a_11eb_8034_f48c50bdd08erow2_col0\" class=\"data row2 col0\" >0.00</td>\n",
       "                        <td id=\"T_5c5bf088_671a_11eb_8034_f48c50bdd08erow2_col1\" class=\"data row2 col1\" >0.00</td>\n",
       "                        <td id=\"T_5c5bf088_671a_11eb_8034_f48c50bdd08erow2_col2\" class=\"data row2 col2\" >0.16</td>\n",
       "                        <td id=\"T_5c5bf088_671a_11eb_8034_f48c50bdd08erow2_col3\" class=\"data row2 col3\" >0.35</td>\n",
       "                        <td id=\"T_5c5bf088_671a_11eb_8034_f48c50bdd08erow2_col4\" class=\"data row2 col4\" >0.56</td>\n",
       "                        <td id=\"T_5c5bf088_671a_11eb_8034_f48c50bdd08erow2_col5\" class=\"data row2 col5\" >0.81</td>\n",
       "                        <td id=\"T_5c5bf088_671a_11eb_8034_f48c50bdd08erow2_col6\" class=\"data row2 col6\" >1.00</td>\n",
       "            </tr>\n",
       "            <tr>\n",
       "                        <th id=\"T_5c5bf088_671a_11eb_8034_f48c50bdd08elevel0_row3\" class=\"row_heading level0 row3\" >3</th>\n",
       "                        <td id=\"T_5c5bf088_671a_11eb_8034_f48c50bdd08erow3_col0\" class=\"data row3 col0\" >0.00</td>\n",
       "                        <td id=\"T_5c5bf088_671a_11eb_8034_f48c50bdd08erow3_col1\" class=\"data row3 col1\" >0.00</td>\n",
       "                        <td id=\"T_5c5bf088_671a_11eb_8034_f48c50bdd08erow3_col2\" class=\"data row3 col2\" >0.00</td>\n",
       "                        <td id=\"T_5c5bf088_671a_11eb_8034_f48c50bdd08erow3_col3\" class=\"data row3 col3\" >0.16</td>\n",
       "                        <td id=\"T_5c5bf088_671a_11eb_8034_f48c50bdd08erow3_col4\" class=\"data row3 col4\" >0.35</td>\n",
       "                        <td id=\"T_5c5bf088_671a_11eb_8034_f48c50bdd08erow3_col5\" class=\"data row3 col5\" >0.56</td>\n",
       "                        <td id=\"T_5c5bf088_671a_11eb_8034_f48c50bdd08erow3_col6\" class=\"data row3 col6\" >0.81</td>\n",
       "            </tr>\n",
       "            <tr>\n",
       "                        <th id=\"T_5c5bf088_671a_11eb_8034_f48c50bdd08elevel0_row4\" class=\"row_heading level0 row4\" >4</th>\n",
       "                        <td id=\"T_5c5bf088_671a_11eb_8034_f48c50bdd08erow4_col0\" class=\"data row4 col0\" >0.00</td>\n",
       "                        <td id=\"T_5c5bf088_671a_11eb_8034_f48c50bdd08erow4_col1\" class=\"data row4 col1\" >0.00</td>\n",
       "                        <td id=\"T_5c5bf088_671a_11eb_8034_f48c50bdd08erow4_col2\" class=\"data row4 col2\" >0.00</td>\n",
       "                        <td id=\"T_5c5bf088_671a_11eb_8034_f48c50bdd08erow4_col3\" class=\"data row4 col3\" >0.00</td>\n",
       "                        <td id=\"T_5c5bf088_671a_11eb_8034_f48c50bdd08erow4_col4\" class=\"data row4 col4\" >0.16</td>\n",
       "                        <td id=\"T_5c5bf088_671a_11eb_8034_f48c50bdd08erow4_col5\" class=\"data row4 col5\" >0.35</td>\n",
       "                        <td id=\"T_5c5bf088_671a_11eb_8034_f48c50bdd08erow4_col6\" class=\"data row4 col6\" >0.56</td>\n",
       "            </tr>\n",
       "            <tr>\n",
       "                        <th id=\"T_5c5bf088_671a_11eb_8034_f48c50bdd08elevel0_row5\" class=\"row_heading level0 row5\" >5</th>\n",
       "                        <td id=\"T_5c5bf088_671a_11eb_8034_f48c50bdd08erow5_col0\" class=\"data row5 col0\" >0.00</td>\n",
       "                        <td id=\"T_5c5bf088_671a_11eb_8034_f48c50bdd08erow5_col1\" class=\"data row5 col1\" >0.00</td>\n",
       "                        <td id=\"T_5c5bf088_671a_11eb_8034_f48c50bdd08erow5_col2\" class=\"data row5 col2\" >0.00</td>\n",
       "                        <td id=\"T_5c5bf088_671a_11eb_8034_f48c50bdd08erow5_col3\" class=\"data row5 col3\" >0.00</td>\n",
       "                        <td id=\"T_5c5bf088_671a_11eb_8034_f48c50bdd08erow5_col4\" class=\"data row5 col4\" >0.00</td>\n",
       "                        <td id=\"T_5c5bf088_671a_11eb_8034_f48c50bdd08erow5_col5\" class=\"data row5 col5\" >0.16</td>\n",
       "                        <td id=\"T_5c5bf088_671a_11eb_8034_f48c50bdd08erow5_col6\" class=\"data row5 col6\" >0.35</td>\n",
       "            </tr>\n",
       "            <tr>\n",
       "                        <th id=\"T_5c5bf088_671a_11eb_8034_f48c50bdd08elevel0_row6\" class=\"row_heading level0 row6\" >6</th>\n",
       "                        <td id=\"T_5c5bf088_671a_11eb_8034_f48c50bdd08erow6_col0\" class=\"data row6 col0\" >0.00</td>\n",
       "                        <td id=\"T_5c5bf088_671a_11eb_8034_f48c50bdd08erow6_col1\" class=\"data row6 col1\" >0.00</td>\n",
       "                        <td id=\"T_5c5bf088_671a_11eb_8034_f48c50bdd08erow6_col2\" class=\"data row6 col2\" >0.00</td>\n",
       "                        <td id=\"T_5c5bf088_671a_11eb_8034_f48c50bdd08erow6_col3\" class=\"data row6 col3\" >0.00</td>\n",
       "                        <td id=\"T_5c5bf088_671a_11eb_8034_f48c50bdd08erow6_col4\" class=\"data row6 col4\" >0.00</td>\n",
       "                        <td id=\"T_5c5bf088_671a_11eb_8034_f48c50bdd08erow6_col5\" class=\"data row6 col5\" >0.00</td>\n",
       "                        <td id=\"T_5c5bf088_671a_11eb_8034_f48c50bdd08erow6_col6\" class=\"data row6 col6\" >0.16</td>\n",
       "            </tr>\n",
       "    </tbody></table>"
      ],
      "text/plain": [
       "<pandas.io.formats.style.Styler at 0x89d4970>"
      ]
     },
     "metadata": {},
     "output_type": "display_data"
    },
    {
     "data": {
      "text/markdown": [
       "## Attrition Table"
      ],
      "text/plain": [
       "<IPython.core.display.Markdown object>"
      ]
     },
     "metadata": {},
     "output_type": "display_data"
    },
    {
     "data": {
      "text/markdown": [
       "This table contains the number of employees that have left **up to that year**.         This is a cummulative number and will increase from zero to the number of employees that were hired as part of that cohort.         Notice that this table contains decimals; the actual calculation ignores the decimals and only accounts for         a termination after the number reaches an integer, i.e., people either leave or they do not, fractions of people do not exist."
      ],
      "text/plain": [
       "<IPython.core.display.Markdown object>"
      ]
     },
     "metadata": {},
     "output_type": "display_data"
    },
    {
     "data": {
      "text/html": [
       "<style  type=\"text/css\" >\n",
       "</style><table id=\"T_5c5e86cf_671a_11eb_9781_f48c50bdd08e\" ><caption>Attrition Table - Number of Employees Leaving Before Rounding\n",
       "</caption><thead>    <tr>        <th class=\"blank level0\" ></th>        <th class=\"col_heading level0 col0\" >0</th>        <th class=\"col_heading level0 col1\" >1</th>        <th class=\"col_heading level0 col2\" >2</th>        <th class=\"col_heading level0 col3\" >3</th>        <th class=\"col_heading level0 col4\" >4</th>        <th class=\"col_heading level0 col5\" >5</th>        <th class=\"col_heading level0 col6\" >6</th>    </tr>    <tr>        <th class=\"index_name level0\" >Cohort</th>        <th class=\"blank\" ></th>        <th class=\"blank\" ></th>        <th class=\"blank\" ></th>        <th class=\"blank\" ></th>        <th class=\"blank\" ></th>        <th class=\"blank\" ></th>        <th class=\"blank\" ></th>    </tr></thead><tbody>\n",
       "                <tr>\n",
       "                        <th id=\"T_5c5e86cf_671a_11eb_9781_f48c50bdd08elevel0_row0\" class=\"row_heading level0 row0\" >0</th>\n",
       "                        <td id=\"T_5c5e86cf_671a_11eb_9781_f48c50bdd08erow0_col0\" class=\"data row0 col0\" >0.32</td>\n",
       "                        <td id=\"T_5c5e86cf_671a_11eb_9781_f48c50bdd08erow0_col1\" class=\"data row0 col1\" >0.69</td>\n",
       "                        <td id=\"T_5c5e86cf_671a_11eb_9781_f48c50bdd08erow0_col2\" class=\"data row0 col2\" >1.12</td>\n",
       "                        <td id=\"T_5c5e86cf_671a_11eb_9781_f48c50bdd08erow0_col3\" class=\"data row0 col3\" >1.62</td>\n",
       "                        <td id=\"T_5c5e86cf_671a_11eb_9781_f48c50bdd08erow0_col4\" class=\"data row0 col4\" >2.00</td>\n",
       "                        <td id=\"T_5c5e86cf_671a_11eb_9781_f48c50bdd08erow0_col5\" class=\"data row0 col5\" >2.00</td>\n",
       "                        <td id=\"T_5c5e86cf_671a_11eb_9781_f48c50bdd08erow0_col6\" class=\"data row0 col6\" >2.00</td>\n",
       "            </tr>\n",
       "            <tr>\n",
       "                        <th id=\"T_5c5e86cf_671a_11eb_9781_f48c50bdd08elevel0_row1\" class=\"row_heading level0 row1\" >1</th>\n",
       "                        <td id=\"T_5c5e86cf_671a_11eb_9781_f48c50bdd08erow1_col0\" class=\"data row1 col0\" >0.00</td>\n",
       "                        <td id=\"T_5c5e86cf_671a_11eb_9781_f48c50bdd08erow1_col1\" class=\"data row1 col1\" >0.32</td>\n",
       "                        <td id=\"T_5c5e86cf_671a_11eb_9781_f48c50bdd08erow1_col2\" class=\"data row1 col2\" >0.69</td>\n",
       "                        <td id=\"T_5c5e86cf_671a_11eb_9781_f48c50bdd08erow1_col3\" class=\"data row1 col3\" >1.12</td>\n",
       "                        <td id=\"T_5c5e86cf_671a_11eb_9781_f48c50bdd08erow1_col4\" class=\"data row1 col4\" >1.62</td>\n",
       "                        <td id=\"T_5c5e86cf_671a_11eb_9781_f48c50bdd08erow1_col5\" class=\"data row1 col5\" >2.00</td>\n",
       "                        <td id=\"T_5c5e86cf_671a_11eb_9781_f48c50bdd08erow1_col6\" class=\"data row1 col6\" >2.00</td>\n",
       "            </tr>\n",
       "            <tr>\n",
       "                        <th id=\"T_5c5e86cf_671a_11eb_9781_f48c50bdd08elevel0_row2\" class=\"row_heading level0 row2\" >2</th>\n",
       "                        <td id=\"T_5c5e86cf_671a_11eb_9781_f48c50bdd08erow2_col0\" class=\"data row2 col0\" >0.00</td>\n",
       "                        <td id=\"T_5c5e86cf_671a_11eb_9781_f48c50bdd08erow2_col1\" class=\"data row2 col1\" >0.00</td>\n",
       "                        <td id=\"T_5c5e86cf_671a_11eb_9781_f48c50bdd08erow2_col2\" class=\"data row2 col2\" >0.32</td>\n",
       "                        <td id=\"T_5c5e86cf_671a_11eb_9781_f48c50bdd08erow2_col3\" class=\"data row2 col3\" >0.69</td>\n",
       "                        <td id=\"T_5c5e86cf_671a_11eb_9781_f48c50bdd08erow2_col4\" class=\"data row2 col4\" >1.12</td>\n",
       "                        <td id=\"T_5c5e86cf_671a_11eb_9781_f48c50bdd08erow2_col5\" class=\"data row2 col5\" >1.62</td>\n",
       "                        <td id=\"T_5c5e86cf_671a_11eb_9781_f48c50bdd08erow2_col6\" class=\"data row2 col6\" >2.00</td>\n",
       "            </tr>\n",
       "            <tr>\n",
       "                        <th id=\"T_5c5e86cf_671a_11eb_9781_f48c50bdd08elevel0_row3\" class=\"row_heading level0 row3\" >3</th>\n",
       "                        <td id=\"T_5c5e86cf_671a_11eb_9781_f48c50bdd08erow3_col0\" class=\"data row3 col0\" >0.00</td>\n",
       "                        <td id=\"T_5c5e86cf_671a_11eb_9781_f48c50bdd08erow3_col1\" class=\"data row3 col1\" >0.00</td>\n",
       "                        <td id=\"T_5c5e86cf_671a_11eb_9781_f48c50bdd08erow3_col2\" class=\"data row3 col2\" >0.00</td>\n",
       "                        <td id=\"T_5c5e86cf_671a_11eb_9781_f48c50bdd08erow3_col3\" class=\"data row3 col3\" >0.48</td>\n",
       "                        <td id=\"T_5c5e86cf_671a_11eb_9781_f48c50bdd08erow3_col4\" class=\"data row3 col4\" >1.04</td>\n",
       "                        <td id=\"T_5c5e86cf_671a_11eb_9781_f48c50bdd08erow3_col5\" class=\"data row3 col5\" >1.68</td>\n",
       "                        <td id=\"T_5c5e86cf_671a_11eb_9781_f48c50bdd08erow3_col6\" class=\"data row3 col6\" >2.43</td>\n",
       "            </tr>\n",
       "            <tr>\n",
       "                        <th id=\"T_5c5e86cf_671a_11eb_9781_f48c50bdd08elevel0_row4\" class=\"row_heading level0 row4\" >4</th>\n",
       "                        <td id=\"T_5c5e86cf_671a_11eb_9781_f48c50bdd08erow4_col0\" class=\"data row4 col0\" >0.00</td>\n",
       "                        <td id=\"T_5c5e86cf_671a_11eb_9781_f48c50bdd08erow4_col1\" class=\"data row4 col1\" >0.00</td>\n",
       "                        <td id=\"T_5c5e86cf_671a_11eb_9781_f48c50bdd08erow4_col2\" class=\"data row4 col2\" >0.00</td>\n",
       "                        <td id=\"T_5c5e86cf_671a_11eb_9781_f48c50bdd08erow4_col3\" class=\"data row4 col3\" >0.00</td>\n",
       "                        <td id=\"T_5c5e86cf_671a_11eb_9781_f48c50bdd08erow4_col4\" class=\"data row4 col4\" >0.64</td>\n",
       "                        <td id=\"T_5c5e86cf_671a_11eb_9781_f48c50bdd08erow4_col5\" class=\"data row4 col5\" >1.38</td>\n",
       "                        <td id=\"T_5c5e86cf_671a_11eb_9781_f48c50bdd08erow4_col6\" class=\"data row4 col6\" >2.24</td>\n",
       "            </tr>\n",
       "            <tr>\n",
       "                        <th id=\"T_5c5e86cf_671a_11eb_9781_f48c50bdd08elevel0_row5\" class=\"row_heading level0 row5\" >5</th>\n",
       "                        <td id=\"T_5c5e86cf_671a_11eb_9781_f48c50bdd08erow5_col0\" class=\"data row5 col0\" >0.00</td>\n",
       "                        <td id=\"T_5c5e86cf_671a_11eb_9781_f48c50bdd08erow5_col1\" class=\"data row5 col1\" >0.00</td>\n",
       "                        <td id=\"T_5c5e86cf_671a_11eb_9781_f48c50bdd08erow5_col2\" class=\"data row5 col2\" >0.00</td>\n",
       "                        <td id=\"T_5c5e86cf_671a_11eb_9781_f48c50bdd08erow5_col3\" class=\"data row5 col3\" >0.00</td>\n",
       "                        <td id=\"T_5c5e86cf_671a_11eb_9781_f48c50bdd08erow5_col4\" class=\"data row5 col4\" >0.00</td>\n",
       "                        <td id=\"T_5c5e86cf_671a_11eb_9781_f48c50bdd08erow5_col5\" class=\"data row5 col5\" >0.96</td>\n",
       "                        <td id=\"T_5c5e86cf_671a_11eb_9781_f48c50bdd08erow5_col6\" class=\"data row5 col6\" >2.07</td>\n",
       "            </tr>\n",
       "            <tr>\n",
       "                        <th id=\"T_5c5e86cf_671a_11eb_9781_f48c50bdd08elevel0_row6\" class=\"row_heading level0 row6\" >6</th>\n",
       "                        <td id=\"T_5c5e86cf_671a_11eb_9781_f48c50bdd08erow6_col0\" class=\"data row6 col0\" >0.00</td>\n",
       "                        <td id=\"T_5c5e86cf_671a_11eb_9781_f48c50bdd08erow6_col1\" class=\"data row6 col1\" >0.00</td>\n",
       "                        <td id=\"T_5c5e86cf_671a_11eb_9781_f48c50bdd08erow6_col2\" class=\"data row6 col2\" >0.00</td>\n",
       "                        <td id=\"T_5c5e86cf_671a_11eb_9781_f48c50bdd08erow6_col3\" class=\"data row6 col3\" >0.00</td>\n",
       "                        <td id=\"T_5c5e86cf_671a_11eb_9781_f48c50bdd08erow6_col4\" class=\"data row6 col4\" >0.00</td>\n",
       "                        <td id=\"T_5c5e86cf_671a_11eb_9781_f48c50bdd08erow6_col5\" class=\"data row6 col5\" >0.00</td>\n",
       "                        <td id=\"T_5c5e86cf_671a_11eb_9781_f48c50bdd08erow6_col6\" class=\"data row6 col6\" >0.00</td>\n",
       "            </tr>\n",
       "    </tbody></table>"
      ],
      "text/plain": [
       "<pandas.io.formats.style.Styler at 0xaae7280>"
      ]
     },
     "metadata": {},
     "output_type": "display_data"
    },
    {
     "data": {
      "text/markdown": [
       "## Retained Employees after Attrition"
      ],
      "text/plain": [
       "<IPython.core.display.Markdown object>"
      ]
     },
     "metadata": {},
     "output_type": "display_data"
    },
    {
     "data": {
      "text/markdown": [
       "This table contains the number of employees that remain with the company after accounting for attrition.\n"
      ],
      "text/plain": [
       "<IPython.core.display.Markdown object>"
      ]
     },
     "metadata": {},
     "output_type": "display_data"
    },
    {
     "data": {
      "text/html": [
       "<style  type=\"text/css\" >\n",
       "</style><table id=\"T_5c6191ef_671a_11eb_bb10_f48c50bdd08e\" ><caption>Employees, After Attrition, by Year</caption><thead>    <tr>        <th class=\"blank level0\" ></th>        <th class=\"col_heading level0 col0\" >0</th>        <th class=\"col_heading level0 col1\" >1</th>        <th class=\"col_heading level0 col2\" >2</th>        <th class=\"col_heading level0 col3\" >3</th>        <th class=\"col_heading level0 col4\" >4</th>        <th class=\"col_heading level0 col5\" >5</th>        <th class=\"col_heading level0 col6\" >6</th>    </tr>    <tr>        <th class=\"index_name level0\" >Cohort</th>        <th class=\"blank\" ></th>        <th class=\"blank\" ></th>        <th class=\"blank\" ></th>        <th class=\"blank\" ></th>        <th class=\"blank\" ></th>        <th class=\"blank\" ></th>        <th class=\"blank\" ></th>    </tr></thead><tbody>\n",
       "                <tr>\n",
       "                        <th id=\"T_5c6191ef_671a_11eb_bb10_f48c50bdd08elevel0_row0\" class=\"row_heading level0 row0\" >0</th>\n",
       "                        <td id=\"T_5c6191ef_671a_11eb_bb10_f48c50bdd08erow0_col0\" class=\"data row0 col0\" >2</td>\n",
       "                        <td id=\"T_5c6191ef_671a_11eb_bb10_f48c50bdd08erow0_col1\" class=\"data row0 col1\" >2</td>\n",
       "                        <td id=\"T_5c6191ef_671a_11eb_bb10_f48c50bdd08erow0_col2\" class=\"data row0 col2\" >1</td>\n",
       "                        <td id=\"T_5c6191ef_671a_11eb_bb10_f48c50bdd08erow0_col3\" class=\"data row0 col3\" >1</td>\n",
       "                        <td id=\"T_5c6191ef_671a_11eb_bb10_f48c50bdd08erow0_col4\" class=\"data row0 col4\" >0</td>\n",
       "                        <td id=\"T_5c6191ef_671a_11eb_bb10_f48c50bdd08erow0_col5\" class=\"data row0 col5\" >0</td>\n",
       "                        <td id=\"T_5c6191ef_671a_11eb_bb10_f48c50bdd08erow0_col6\" class=\"data row0 col6\" >0</td>\n",
       "            </tr>\n",
       "            <tr>\n",
       "                        <th id=\"T_5c6191ef_671a_11eb_bb10_f48c50bdd08elevel0_row1\" class=\"row_heading level0 row1\" >1</th>\n",
       "                        <td id=\"T_5c6191ef_671a_11eb_bb10_f48c50bdd08erow1_col0\" class=\"data row1 col0\" >0</td>\n",
       "                        <td id=\"T_5c6191ef_671a_11eb_bb10_f48c50bdd08erow1_col1\" class=\"data row1 col1\" >2</td>\n",
       "                        <td id=\"T_5c6191ef_671a_11eb_bb10_f48c50bdd08erow1_col2\" class=\"data row1 col2\" >2</td>\n",
       "                        <td id=\"T_5c6191ef_671a_11eb_bb10_f48c50bdd08erow1_col3\" class=\"data row1 col3\" >1</td>\n",
       "                        <td id=\"T_5c6191ef_671a_11eb_bb10_f48c50bdd08erow1_col4\" class=\"data row1 col4\" >1</td>\n",
       "                        <td id=\"T_5c6191ef_671a_11eb_bb10_f48c50bdd08erow1_col5\" class=\"data row1 col5\" >0</td>\n",
       "                        <td id=\"T_5c6191ef_671a_11eb_bb10_f48c50bdd08erow1_col6\" class=\"data row1 col6\" >0</td>\n",
       "            </tr>\n",
       "            <tr>\n",
       "                        <th id=\"T_5c6191ef_671a_11eb_bb10_f48c50bdd08elevel0_row2\" class=\"row_heading level0 row2\" >2</th>\n",
       "                        <td id=\"T_5c6191ef_671a_11eb_bb10_f48c50bdd08erow2_col0\" class=\"data row2 col0\" >0</td>\n",
       "                        <td id=\"T_5c6191ef_671a_11eb_bb10_f48c50bdd08erow2_col1\" class=\"data row2 col1\" >0</td>\n",
       "                        <td id=\"T_5c6191ef_671a_11eb_bb10_f48c50bdd08erow2_col2\" class=\"data row2 col2\" >2</td>\n",
       "                        <td id=\"T_5c6191ef_671a_11eb_bb10_f48c50bdd08erow2_col3\" class=\"data row2 col3\" >2</td>\n",
       "                        <td id=\"T_5c6191ef_671a_11eb_bb10_f48c50bdd08erow2_col4\" class=\"data row2 col4\" >1</td>\n",
       "                        <td id=\"T_5c6191ef_671a_11eb_bb10_f48c50bdd08erow2_col5\" class=\"data row2 col5\" >1</td>\n",
       "                        <td id=\"T_5c6191ef_671a_11eb_bb10_f48c50bdd08erow2_col6\" class=\"data row2 col6\" >0</td>\n",
       "            </tr>\n",
       "            <tr>\n",
       "                        <th id=\"T_5c6191ef_671a_11eb_bb10_f48c50bdd08elevel0_row3\" class=\"row_heading level0 row3\" >3</th>\n",
       "                        <td id=\"T_5c6191ef_671a_11eb_bb10_f48c50bdd08erow3_col0\" class=\"data row3 col0\" >0</td>\n",
       "                        <td id=\"T_5c6191ef_671a_11eb_bb10_f48c50bdd08erow3_col1\" class=\"data row3 col1\" >0</td>\n",
       "                        <td id=\"T_5c6191ef_671a_11eb_bb10_f48c50bdd08erow3_col2\" class=\"data row3 col2\" >0</td>\n",
       "                        <td id=\"T_5c6191ef_671a_11eb_bb10_f48c50bdd08erow3_col3\" class=\"data row3 col3\" >3</td>\n",
       "                        <td id=\"T_5c6191ef_671a_11eb_bb10_f48c50bdd08erow3_col4\" class=\"data row3 col4\" >2</td>\n",
       "                        <td id=\"T_5c6191ef_671a_11eb_bb10_f48c50bdd08erow3_col5\" class=\"data row3 col5\" >2</td>\n",
       "                        <td id=\"T_5c6191ef_671a_11eb_bb10_f48c50bdd08erow3_col6\" class=\"data row3 col6\" >1</td>\n",
       "            </tr>\n",
       "            <tr>\n",
       "                        <th id=\"T_5c6191ef_671a_11eb_bb10_f48c50bdd08elevel0_row4\" class=\"row_heading level0 row4\" >4</th>\n",
       "                        <td id=\"T_5c6191ef_671a_11eb_bb10_f48c50bdd08erow4_col0\" class=\"data row4 col0\" >0</td>\n",
       "                        <td id=\"T_5c6191ef_671a_11eb_bb10_f48c50bdd08erow4_col1\" class=\"data row4 col1\" >0</td>\n",
       "                        <td id=\"T_5c6191ef_671a_11eb_bb10_f48c50bdd08erow4_col2\" class=\"data row4 col2\" >0</td>\n",
       "                        <td id=\"T_5c6191ef_671a_11eb_bb10_f48c50bdd08erow4_col3\" class=\"data row4 col3\" >0</td>\n",
       "                        <td id=\"T_5c6191ef_671a_11eb_bb10_f48c50bdd08erow4_col4\" class=\"data row4 col4\" >4</td>\n",
       "                        <td id=\"T_5c6191ef_671a_11eb_bb10_f48c50bdd08erow4_col5\" class=\"data row4 col5\" >3</td>\n",
       "                        <td id=\"T_5c6191ef_671a_11eb_bb10_f48c50bdd08erow4_col6\" class=\"data row4 col6\" >2</td>\n",
       "            </tr>\n",
       "            <tr>\n",
       "                        <th id=\"T_5c6191ef_671a_11eb_bb10_f48c50bdd08elevel0_row5\" class=\"row_heading level0 row5\" >5</th>\n",
       "                        <td id=\"T_5c6191ef_671a_11eb_bb10_f48c50bdd08erow5_col0\" class=\"data row5 col0\" >0</td>\n",
       "                        <td id=\"T_5c6191ef_671a_11eb_bb10_f48c50bdd08erow5_col1\" class=\"data row5 col1\" >0</td>\n",
       "                        <td id=\"T_5c6191ef_671a_11eb_bb10_f48c50bdd08erow5_col2\" class=\"data row5 col2\" >0</td>\n",
       "                        <td id=\"T_5c6191ef_671a_11eb_bb10_f48c50bdd08erow5_col3\" class=\"data row5 col3\" >0</td>\n",
       "                        <td id=\"T_5c6191ef_671a_11eb_bb10_f48c50bdd08erow5_col4\" class=\"data row5 col4\" >0</td>\n",
       "                        <td id=\"T_5c6191ef_671a_11eb_bb10_f48c50bdd08erow5_col5\" class=\"data row5 col5\" >6</td>\n",
       "                        <td id=\"T_5c6191ef_671a_11eb_bb10_f48c50bdd08erow5_col6\" class=\"data row5 col6\" >4</td>\n",
       "            </tr>\n",
       "            <tr>\n",
       "                        <th id=\"T_5c6191ef_671a_11eb_bb10_f48c50bdd08elevel0_row6\" class=\"row_heading level0 row6\" >6</th>\n",
       "                        <td id=\"T_5c6191ef_671a_11eb_bb10_f48c50bdd08erow6_col0\" class=\"data row6 col0\" >0</td>\n",
       "                        <td id=\"T_5c6191ef_671a_11eb_bb10_f48c50bdd08erow6_col1\" class=\"data row6 col1\" >0</td>\n",
       "                        <td id=\"T_5c6191ef_671a_11eb_bb10_f48c50bdd08erow6_col2\" class=\"data row6 col2\" >0</td>\n",
       "                        <td id=\"T_5c6191ef_671a_11eb_bb10_f48c50bdd08erow6_col3\" class=\"data row6 col3\" >0</td>\n",
       "                        <td id=\"T_5c6191ef_671a_11eb_bb10_f48c50bdd08erow6_col4\" class=\"data row6 col4\" >0</td>\n",
       "                        <td id=\"T_5c6191ef_671a_11eb_bb10_f48c50bdd08erow6_col5\" class=\"data row6 col5\" >0</td>\n",
       "                        <td id=\"T_5c6191ef_671a_11eb_bb10_f48c50bdd08erow6_col6\" class=\"data row6 col6\" >0</td>\n",
       "            </tr>\n",
       "            <tr>\n",
       "                        <th id=\"T_5c6191ef_671a_11eb_bb10_f48c50bdd08elevel0_row7\" class=\"row_heading level0 row7\" >Sum of Employees</th>\n",
       "                        <td id=\"T_5c6191ef_671a_11eb_bb10_f48c50bdd08erow7_col0\" class=\"data row7 col0\" >2</td>\n",
       "                        <td id=\"T_5c6191ef_671a_11eb_bb10_f48c50bdd08erow7_col1\" class=\"data row7 col1\" >4</td>\n",
       "                        <td id=\"T_5c6191ef_671a_11eb_bb10_f48c50bdd08erow7_col2\" class=\"data row7 col2\" >5</td>\n",
       "                        <td id=\"T_5c6191ef_671a_11eb_bb10_f48c50bdd08erow7_col3\" class=\"data row7 col3\" >7</td>\n",
       "                        <td id=\"T_5c6191ef_671a_11eb_bb10_f48c50bdd08erow7_col4\" class=\"data row7 col4\" >8</td>\n",
       "                        <td id=\"T_5c6191ef_671a_11eb_bb10_f48c50bdd08erow7_col5\" class=\"data row7 col5\" >12</td>\n",
       "                        <td id=\"T_5c6191ef_671a_11eb_bb10_f48c50bdd08erow7_col6\" class=\"data row7 col6\" >7</td>\n",
       "            </tr>\n",
       "    </tbody></table>"
      ],
      "text/plain": [
       "<pandas.io.formats.style.Styler at 0xad921f0>"
      ]
     },
     "metadata": {},
     "output_type": "display_data"
    },
    {
     "data": {
      "text/markdown": [
       "## Full Time Equivalent Table"
      ],
      "text/plain": [
       "<IPython.core.display.Markdown object>"
      ]
     },
     "metadata": {},
     "output_type": "display_data"
    },
    {
     "data": {
      "text/markdown": [
       "This table takes the retained employees after attrition from the table above and calculates the         number of FTE after applying mid-year hiring. We assume that hiring takes place throughout the year rather than have         all employees hired on the first of the year. This results in a lower FTE figure for the first year of the cohort.\n"
      ],
      "text/plain": [
       "<IPython.core.display.Markdown object>"
      ]
     },
     "metadata": {},
     "output_type": "display_data"
    },
    {
     "data": {
      "text/html": [
       "<style  type=\"text/css\" >\n",
       "</style><table id=\"T_5c638c67_671a_11eb_bce1_f48c50bdd08e\" ><caption>FTE Table</caption><thead>    <tr>        <th class=\"blank level0\" ></th>        <th class=\"col_heading level0 col0\" >0</th>        <th class=\"col_heading level0 col1\" >1</th>        <th class=\"col_heading level0 col2\" >2</th>        <th class=\"col_heading level0 col3\" >3</th>        <th class=\"col_heading level0 col4\" >4</th>        <th class=\"col_heading level0 col5\" >5</th>        <th class=\"col_heading level0 col6\" >6</th>    </tr>    <tr>        <th class=\"index_name level0\" >Cohort</th>        <th class=\"blank\" ></th>        <th class=\"blank\" ></th>        <th class=\"blank\" ></th>        <th class=\"blank\" ></th>        <th class=\"blank\" ></th>        <th class=\"blank\" ></th>        <th class=\"blank\" ></th>    </tr></thead><tbody>\n",
       "                <tr>\n",
       "                        <th id=\"T_5c638c67_671a_11eb_bce1_f48c50bdd08elevel0_row0\" class=\"row_heading level0 row0\" >0</th>\n",
       "                        <td id=\"T_5c638c67_671a_11eb_bce1_f48c50bdd08erow0_col0\" class=\"data row0 col0\" >2.00</td>\n",
       "                        <td id=\"T_5c638c67_671a_11eb_bce1_f48c50bdd08erow0_col1\" class=\"data row0 col1\" >2.00</td>\n",
       "                        <td id=\"T_5c638c67_671a_11eb_bce1_f48c50bdd08erow0_col2\" class=\"data row0 col2\" >1.00</td>\n",
       "                        <td id=\"T_5c638c67_671a_11eb_bce1_f48c50bdd08erow0_col3\" class=\"data row0 col3\" >1.00</td>\n",
       "                        <td id=\"T_5c638c67_671a_11eb_bce1_f48c50bdd08erow0_col4\" class=\"data row0 col4\" >0.00</td>\n",
       "                        <td id=\"T_5c638c67_671a_11eb_bce1_f48c50bdd08erow0_col5\" class=\"data row0 col5\" >0.00</td>\n",
       "                        <td id=\"T_5c638c67_671a_11eb_bce1_f48c50bdd08erow0_col6\" class=\"data row0 col6\" >0.00</td>\n",
       "            </tr>\n",
       "            <tr>\n",
       "                        <th id=\"T_5c638c67_671a_11eb_bce1_f48c50bdd08elevel0_row1\" class=\"row_heading level0 row1\" >1</th>\n",
       "                        <td id=\"T_5c638c67_671a_11eb_bce1_f48c50bdd08erow1_col0\" class=\"data row1 col0\" >0.00</td>\n",
       "                        <td id=\"T_5c638c67_671a_11eb_bce1_f48c50bdd08erow1_col1\" class=\"data row1 col1\" >1.00</td>\n",
       "                        <td id=\"T_5c638c67_671a_11eb_bce1_f48c50bdd08erow1_col2\" class=\"data row1 col2\" >2.00</td>\n",
       "                        <td id=\"T_5c638c67_671a_11eb_bce1_f48c50bdd08erow1_col3\" class=\"data row1 col3\" >1.00</td>\n",
       "                        <td id=\"T_5c638c67_671a_11eb_bce1_f48c50bdd08erow1_col4\" class=\"data row1 col4\" >1.00</td>\n",
       "                        <td id=\"T_5c638c67_671a_11eb_bce1_f48c50bdd08erow1_col5\" class=\"data row1 col5\" >0.00</td>\n",
       "                        <td id=\"T_5c638c67_671a_11eb_bce1_f48c50bdd08erow1_col6\" class=\"data row1 col6\" >0.00</td>\n",
       "            </tr>\n",
       "            <tr>\n",
       "                        <th id=\"T_5c638c67_671a_11eb_bce1_f48c50bdd08elevel0_row2\" class=\"row_heading level0 row2\" >2</th>\n",
       "                        <td id=\"T_5c638c67_671a_11eb_bce1_f48c50bdd08erow2_col0\" class=\"data row2 col0\" >0.00</td>\n",
       "                        <td id=\"T_5c638c67_671a_11eb_bce1_f48c50bdd08erow2_col1\" class=\"data row2 col1\" >0.00</td>\n",
       "                        <td id=\"T_5c638c67_671a_11eb_bce1_f48c50bdd08erow2_col2\" class=\"data row2 col2\" >1.00</td>\n",
       "                        <td id=\"T_5c638c67_671a_11eb_bce1_f48c50bdd08erow2_col3\" class=\"data row2 col3\" >2.00</td>\n",
       "                        <td id=\"T_5c638c67_671a_11eb_bce1_f48c50bdd08erow2_col4\" class=\"data row2 col4\" >1.00</td>\n",
       "                        <td id=\"T_5c638c67_671a_11eb_bce1_f48c50bdd08erow2_col5\" class=\"data row2 col5\" >1.00</td>\n",
       "                        <td id=\"T_5c638c67_671a_11eb_bce1_f48c50bdd08erow2_col6\" class=\"data row2 col6\" >0.00</td>\n",
       "            </tr>\n",
       "            <tr>\n",
       "                        <th id=\"T_5c638c67_671a_11eb_bce1_f48c50bdd08elevel0_row3\" class=\"row_heading level0 row3\" >3</th>\n",
       "                        <td id=\"T_5c638c67_671a_11eb_bce1_f48c50bdd08erow3_col0\" class=\"data row3 col0\" >0.00</td>\n",
       "                        <td id=\"T_5c638c67_671a_11eb_bce1_f48c50bdd08erow3_col1\" class=\"data row3 col1\" >0.00</td>\n",
       "                        <td id=\"T_5c638c67_671a_11eb_bce1_f48c50bdd08erow3_col2\" class=\"data row3 col2\" >0.00</td>\n",
       "                        <td id=\"T_5c638c67_671a_11eb_bce1_f48c50bdd08erow3_col3\" class=\"data row3 col3\" >1.50</td>\n",
       "                        <td id=\"T_5c638c67_671a_11eb_bce1_f48c50bdd08erow3_col4\" class=\"data row3 col4\" >2.00</td>\n",
       "                        <td id=\"T_5c638c67_671a_11eb_bce1_f48c50bdd08erow3_col5\" class=\"data row3 col5\" >2.00</td>\n",
       "                        <td id=\"T_5c638c67_671a_11eb_bce1_f48c50bdd08erow3_col6\" class=\"data row3 col6\" >1.00</td>\n",
       "            </tr>\n",
       "            <tr>\n",
       "                        <th id=\"T_5c638c67_671a_11eb_bce1_f48c50bdd08elevel0_row4\" class=\"row_heading level0 row4\" >4</th>\n",
       "                        <td id=\"T_5c638c67_671a_11eb_bce1_f48c50bdd08erow4_col0\" class=\"data row4 col0\" >0.00</td>\n",
       "                        <td id=\"T_5c638c67_671a_11eb_bce1_f48c50bdd08erow4_col1\" class=\"data row4 col1\" >0.00</td>\n",
       "                        <td id=\"T_5c638c67_671a_11eb_bce1_f48c50bdd08erow4_col2\" class=\"data row4 col2\" >0.00</td>\n",
       "                        <td id=\"T_5c638c67_671a_11eb_bce1_f48c50bdd08erow4_col3\" class=\"data row4 col3\" >0.00</td>\n",
       "                        <td id=\"T_5c638c67_671a_11eb_bce1_f48c50bdd08erow4_col4\" class=\"data row4 col4\" >2.00</td>\n",
       "                        <td id=\"T_5c638c67_671a_11eb_bce1_f48c50bdd08erow4_col5\" class=\"data row4 col5\" >3.00</td>\n",
       "                        <td id=\"T_5c638c67_671a_11eb_bce1_f48c50bdd08erow4_col6\" class=\"data row4 col6\" >2.00</td>\n",
       "            </tr>\n",
       "            <tr>\n",
       "                        <th id=\"T_5c638c67_671a_11eb_bce1_f48c50bdd08elevel0_row5\" class=\"row_heading level0 row5\" >5</th>\n",
       "                        <td id=\"T_5c638c67_671a_11eb_bce1_f48c50bdd08erow5_col0\" class=\"data row5 col0\" >0.00</td>\n",
       "                        <td id=\"T_5c638c67_671a_11eb_bce1_f48c50bdd08erow5_col1\" class=\"data row5 col1\" >0.00</td>\n",
       "                        <td id=\"T_5c638c67_671a_11eb_bce1_f48c50bdd08erow5_col2\" class=\"data row5 col2\" >0.00</td>\n",
       "                        <td id=\"T_5c638c67_671a_11eb_bce1_f48c50bdd08erow5_col3\" class=\"data row5 col3\" >0.00</td>\n",
       "                        <td id=\"T_5c638c67_671a_11eb_bce1_f48c50bdd08erow5_col4\" class=\"data row5 col4\" >0.00</td>\n",
       "                        <td id=\"T_5c638c67_671a_11eb_bce1_f48c50bdd08erow5_col5\" class=\"data row5 col5\" >3.00</td>\n",
       "                        <td id=\"T_5c638c67_671a_11eb_bce1_f48c50bdd08erow5_col6\" class=\"data row5 col6\" >4.00</td>\n",
       "            </tr>\n",
       "            <tr>\n",
       "                        <th id=\"T_5c638c67_671a_11eb_bce1_f48c50bdd08elevel0_row6\" class=\"row_heading level0 row6\" >6</th>\n",
       "                        <td id=\"T_5c638c67_671a_11eb_bce1_f48c50bdd08erow6_col0\" class=\"data row6 col0\" >0.00</td>\n",
       "                        <td id=\"T_5c638c67_671a_11eb_bce1_f48c50bdd08erow6_col1\" class=\"data row6 col1\" >0.00</td>\n",
       "                        <td id=\"T_5c638c67_671a_11eb_bce1_f48c50bdd08erow6_col2\" class=\"data row6 col2\" >0.00</td>\n",
       "                        <td id=\"T_5c638c67_671a_11eb_bce1_f48c50bdd08erow6_col3\" class=\"data row6 col3\" >0.00</td>\n",
       "                        <td id=\"T_5c638c67_671a_11eb_bce1_f48c50bdd08erow6_col4\" class=\"data row6 col4\" >0.00</td>\n",
       "                        <td id=\"T_5c638c67_671a_11eb_bce1_f48c50bdd08erow6_col5\" class=\"data row6 col5\" >0.00</td>\n",
       "                        <td id=\"T_5c638c67_671a_11eb_bce1_f48c50bdd08erow6_col6\" class=\"data row6 col6\" >0.00</td>\n",
       "            </tr>\n",
       "            <tr>\n",
       "                        <th id=\"T_5c638c67_671a_11eb_bce1_f48c50bdd08elevel0_row7\" class=\"row_heading level0 row7\" >Sum of FTE</th>\n",
       "                        <td id=\"T_5c638c67_671a_11eb_bce1_f48c50bdd08erow7_col0\" class=\"data row7 col0\" >2.00</td>\n",
       "                        <td id=\"T_5c638c67_671a_11eb_bce1_f48c50bdd08erow7_col1\" class=\"data row7 col1\" >3.00</td>\n",
       "                        <td id=\"T_5c638c67_671a_11eb_bce1_f48c50bdd08erow7_col2\" class=\"data row7 col2\" >4.00</td>\n",
       "                        <td id=\"T_5c638c67_671a_11eb_bce1_f48c50bdd08erow7_col3\" class=\"data row7 col3\" >5.50</td>\n",
       "                        <td id=\"T_5c638c67_671a_11eb_bce1_f48c50bdd08erow7_col4\" class=\"data row7 col4\" >6.00</td>\n",
       "                        <td id=\"T_5c638c67_671a_11eb_bce1_f48c50bdd08erow7_col5\" class=\"data row7 col5\" >9.00</td>\n",
       "                        <td id=\"T_5c638c67_671a_11eb_bce1_f48c50bdd08erow7_col6\" class=\"data row7 col6\" >7.00</td>\n",
       "            </tr>\n",
       "    </tbody></table>"
      ],
      "text/plain": [
       "<pandas.io.formats.style.Styler at 0xac67700>"
      ]
     },
     "metadata": {},
     "output_type": "display_data"
    },
    {
     "data": {
      "text/markdown": [
       "## Full Time Equivalent after Factoring Productivity Ramp Up"
      ],
      "text/plain": [
       "<IPython.core.display.Markdown object>"
      ]
     },
     "metadata": {},
     "output_type": "display_data"
    },
    {
     "data": {
      "text/markdown": [
       "This table takes the FTE figures from the table above and applies the ramp up in productivity.\n"
      ],
      "text/plain": [
       "<IPython.core.display.Markdown object>"
      ]
     },
     "metadata": {},
     "output_type": "display_data"
    },
    {
     "data": {
      "text/html": [
       "<style  type=\"text/css\" >\n",
       "</style><table id=\"T_5c68dff7_671a_11eb_98d9_f48c50bdd08e\" ><caption>FTE After Applying Productivity Ramp</caption><thead>    <tr>        <th class=\"blank level0\" ></th>        <th class=\"col_heading level0 col0\" >0</th>        <th class=\"col_heading level0 col1\" >1</th>        <th class=\"col_heading level0 col2\" >2</th>        <th class=\"col_heading level0 col3\" >3</th>        <th class=\"col_heading level0 col4\" >4</th>        <th class=\"col_heading level0 col5\" >5</th>        <th class=\"col_heading level0 col6\" >6</th>    </tr>    <tr>        <th class=\"index_name level0\" >Cohort</th>        <th class=\"blank\" ></th>        <th class=\"blank\" ></th>        <th class=\"blank\" ></th>        <th class=\"blank\" ></th>        <th class=\"blank\" ></th>        <th class=\"blank\" ></th>        <th class=\"blank\" ></th>    </tr></thead><tbody>\n",
       "                <tr>\n",
       "                        <th id=\"T_5c68dff7_671a_11eb_98d9_f48c50bdd08elevel0_row0\" class=\"row_heading level0 row0\" >0</th>\n",
       "                        <td id=\"T_5c68dff7_671a_11eb_98d9_f48c50bdd08erow0_col0\" class=\"data row0 col0\" >0.50</td>\n",
       "                        <td id=\"T_5c68dff7_671a_11eb_98d9_f48c50bdd08erow0_col1\" class=\"data row0 col1\" >1.00</td>\n",
       "                        <td id=\"T_5c68dff7_671a_11eb_98d9_f48c50bdd08erow0_col2\" class=\"data row0 col2\" >0.75</td>\n",
       "                        <td id=\"T_5c68dff7_671a_11eb_98d9_f48c50bdd08erow0_col3\" class=\"data row0 col3\" >1.00</td>\n",
       "                        <td id=\"T_5c68dff7_671a_11eb_98d9_f48c50bdd08erow0_col4\" class=\"data row0 col4\" >0.00</td>\n",
       "                        <td id=\"T_5c68dff7_671a_11eb_98d9_f48c50bdd08erow0_col5\" class=\"data row0 col5\" >0.00</td>\n",
       "                        <td id=\"T_5c68dff7_671a_11eb_98d9_f48c50bdd08erow0_col6\" class=\"data row0 col6\" >0.00</td>\n",
       "            </tr>\n",
       "            <tr>\n",
       "                        <th id=\"T_5c68dff7_671a_11eb_98d9_f48c50bdd08elevel0_row1\" class=\"row_heading level0 row1\" >1</th>\n",
       "                        <td id=\"T_5c68dff7_671a_11eb_98d9_f48c50bdd08erow1_col0\" class=\"data row1 col0\" >0.00</td>\n",
       "                        <td id=\"T_5c68dff7_671a_11eb_98d9_f48c50bdd08erow1_col1\" class=\"data row1 col1\" >0.25</td>\n",
       "                        <td id=\"T_5c68dff7_671a_11eb_98d9_f48c50bdd08erow1_col2\" class=\"data row1 col2\" >1.00</td>\n",
       "                        <td id=\"T_5c68dff7_671a_11eb_98d9_f48c50bdd08erow1_col3\" class=\"data row1 col3\" >0.75</td>\n",
       "                        <td id=\"T_5c68dff7_671a_11eb_98d9_f48c50bdd08erow1_col4\" class=\"data row1 col4\" >1.00</td>\n",
       "                        <td id=\"T_5c68dff7_671a_11eb_98d9_f48c50bdd08erow1_col5\" class=\"data row1 col5\" >0.00</td>\n",
       "                        <td id=\"T_5c68dff7_671a_11eb_98d9_f48c50bdd08erow1_col6\" class=\"data row1 col6\" >0.00</td>\n",
       "            </tr>\n",
       "            <tr>\n",
       "                        <th id=\"T_5c68dff7_671a_11eb_98d9_f48c50bdd08elevel0_row2\" class=\"row_heading level0 row2\" >2</th>\n",
       "                        <td id=\"T_5c68dff7_671a_11eb_98d9_f48c50bdd08erow2_col0\" class=\"data row2 col0\" >0.00</td>\n",
       "                        <td id=\"T_5c68dff7_671a_11eb_98d9_f48c50bdd08erow2_col1\" class=\"data row2 col1\" >0.00</td>\n",
       "                        <td id=\"T_5c68dff7_671a_11eb_98d9_f48c50bdd08erow2_col2\" class=\"data row2 col2\" >0.25</td>\n",
       "                        <td id=\"T_5c68dff7_671a_11eb_98d9_f48c50bdd08erow2_col3\" class=\"data row2 col3\" >1.00</td>\n",
       "                        <td id=\"T_5c68dff7_671a_11eb_98d9_f48c50bdd08erow2_col4\" class=\"data row2 col4\" >0.75</td>\n",
       "                        <td id=\"T_5c68dff7_671a_11eb_98d9_f48c50bdd08erow2_col5\" class=\"data row2 col5\" >1.00</td>\n",
       "                        <td id=\"T_5c68dff7_671a_11eb_98d9_f48c50bdd08erow2_col6\" class=\"data row2 col6\" >0.00</td>\n",
       "            </tr>\n",
       "            <tr>\n",
       "                        <th id=\"T_5c68dff7_671a_11eb_98d9_f48c50bdd08elevel0_row3\" class=\"row_heading level0 row3\" >3</th>\n",
       "                        <td id=\"T_5c68dff7_671a_11eb_98d9_f48c50bdd08erow3_col0\" class=\"data row3 col0\" >0.00</td>\n",
       "                        <td id=\"T_5c68dff7_671a_11eb_98d9_f48c50bdd08erow3_col1\" class=\"data row3 col1\" >0.00</td>\n",
       "                        <td id=\"T_5c68dff7_671a_11eb_98d9_f48c50bdd08erow3_col2\" class=\"data row3 col2\" >0.00</td>\n",
       "                        <td id=\"T_5c68dff7_671a_11eb_98d9_f48c50bdd08erow3_col3\" class=\"data row3 col3\" >0.38</td>\n",
       "                        <td id=\"T_5c68dff7_671a_11eb_98d9_f48c50bdd08erow3_col4\" class=\"data row3 col4\" >1.00</td>\n",
       "                        <td id=\"T_5c68dff7_671a_11eb_98d9_f48c50bdd08erow3_col5\" class=\"data row3 col5\" >1.50</td>\n",
       "                        <td id=\"T_5c68dff7_671a_11eb_98d9_f48c50bdd08erow3_col6\" class=\"data row3 col6\" >1.00</td>\n",
       "            </tr>\n",
       "            <tr>\n",
       "                        <th id=\"T_5c68dff7_671a_11eb_98d9_f48c50bdd08elevel0_row4\" class=\"row_heading level0 row4\" >4</th>\n",
       "                        <td id=\"T_5c68dff7_671a_11eb_98d9_f48c50bdd08erow4_col0\" class=\"data row4 col0\" >0.00</td>\n",
       "                        <td id=\"T_5c68dff7_671a_11eb_98d9_f48c50bdd08erow4_col1\" class=\"data row4 col1\" >0.00</td>\n",
       "                        <td id=\"T_5c68dff7_671a_11eb_98d9_f48c50bdd08erow4_col2\" class=\"data row4 col2\" >0.00</td>\n",
       "                        <td id=\"T_5c68dff7_671a_11eb_98d9_f48c50bdd08erow4_col3\" class=\"data row4 col3\" >0.00</td>\n",
       "                        <td id=\"T_5c68dff7_671a_11eb_98d9_f48c50bdd08erow4_col4\" class=\"data row4 col4\" >0.50</td>\n",
       "                        <td id=\"T_5c68dff7_671a_11eb_98d9_f48c50bdd08erow4_col5\" class=\"data row4 col5\" >1.50</td>\n",
       "                        <td id=\"T_5c68dff7_671a_11eb_98d9_f48c50bdd08erow4_col6\" class=\"data row4 col6\" >1.50</td>\n",
       "            </tr>\n",
       "            <tr>\n",
       "                        <th id=\"T_5c68dff7_671a_11eb_98d9_f48c50bdd08elevel0_row5\" class=\"row_heading level0 row5\" >5</th>\n",
       "                        <td id=\"T_5c68dff7_671a_11eb_98d9_f48c50bdd08erow5_col0\" class=\"data row5 col0\" >0.00</td>\n",
       "                        <td id=\"T_5c68dff7_671a_11eb_98d9_f48c50bdd08erow5_col1\" class=\"data row5 col1\" >0.00</td>\n",
       "                        <td id=\"T_5c68dff7_671a_11eb_98d9_f48c50bdd08erow5_col2\" class=\"data row5 col2\" >0.00</td>\n",
       "                        <td id=\"T_5c68dff7_671a_11eb_98d9_f48c50bdd08erow5_col3\" class=\"data row5 col3\" >0.00</td>\n",
       "                        <td id=\"T_5c68dff7_671a_11eb_98d9_f48c50bdd08erow5_col4\" class=\"data row5 col4\" >0.00</td>\n",
       "                        <td id=\"T_5c68dff7_671a_11eb_98d9_f48c50bdd08erow5_col5\" class=\"data row5 col5\" >0.75</td>\n",
       "                        <td id=\"T_5c68dff7_671a_11eb_98d9_f48c50bdd08erow5_col6\" class=\"data row5 col6\" >2.00</td>\n",
       "            </tr>\n",
       "            <tr>\n",
       "                        <th id=\"T_5c68dff7_671a_11eb_98d9_f48c50bdd08elevel0_row6\" class=\"row_heading level0 row6\" >6</th>\n",
       "                        <td id=\"T_5c68dff7_671a_11eb_98d9_f48c50bdd08erow6_col0\" class=\"data row6 col0\" >0.00</td>\n",
       "                        <td id=\"T_5c68dff7_671a_11eb_98d9_f48c50bdd08erow6_col1\" class=\"data row6 col1\" >0.00</td>\n",
       "                        <td id=\"T_5c68dff7_671a_11eb_98d9_f48c50bdd08erow6_col2\" class=\"data row6 col2\" >0.00</td>\n",
       "                        <td id=\"T_5c68dff7_671a_11eb_98d9_f48c50bdd08erow6_col3\" class=\"data row6 col3\" >0.00</td>\n",
       "                        <td id=\"T_5c68dff7_671a_11eb_98d9_f48c50bdd08erow6_col4\" class=\"data row6 col4\" >0.00</td>\n",
       "                        <td id=\"T_5c68dff7_671a_11eb_98d9_f48c50bdd08erow6_col5\" class=\"data row6 col5\" >0.00</td>\n",
       "                        <td id=\"T_5c68dff7_671a_11eb_98d9_f48c50bdd08erow6_col6\" class=\"data row6 col6\" >0.00</td>\n",
       "            </tr>\n",
       "            <tr>\n",
       "                        <th id=\"T_5c68dff7_671a_11eb_98d9_f48c50bdd08elevel0_row7\" class=\"row_heading level0 row7\" >Sum of FTE</th>\n",
       "                        <td id=\"T_5c68dff7_671a_11eb_98d9_f48c50bdd08erow7_col0\" class=\"data row7 col0\" >0.50</td>\n",
       "                        <td id=\"T_5c68dff7_671a_11eb_98d9_f48c50bdd08erow7_col1\" class=\"data row7 col1\" >1.25</td>\n",
       "                        <td id=\"T_5c68dff7_671a_11eb_98d9_f48c50bdd08erow7_col2\" class=\"data row7 col2\" >2.00</td>\n",
       "                        <td id=\"T_5c68dff7_671a_11eb_98d9_f48c50bdd08erow7_col3\" class=\"data row7 col3\" >3.12</td>\n",
       "                        <td id=\"T_5c68dff7_671a_11eb_98d9_f48c50bdd08erow7_col4\" class=\"data row7 col4\" >3.25</td>\n",
       "                        <td id=\"T_5c68dff7_671a_11eb_98d9_f48c50bdd08erow7_col5\" class=\"data row7 col5\" >4.75</td>\n",
       "                        <td id=\"T_5c68dff7_671a_11eb_98d9_f48c50bdd08erow7_col6\" class=\"data row7 col6\" >4.50</td>\n",
       "            </tr>\n",
       "    </tbody></table>"
      ],
      "text/plain": [
       "<pandas.io.formats.style.Styler at 0xad92ac0>"
      ]
     },
     "metadata": {},
     "output_type": "display_data"
    },
    {
     "data": {
      "text/markdown": [
       "## Revenue Table"
      ],
      "text/plain": [
       "<IPython.core.display.Markdown object>"
      ]
     },
     "metadata": {},
     "output_type": "display_data"
    },
    {
     "data": {
      "text/markdown": [
       "This table takes the final FTE figures, after factoring for productivity ramp up periods, and calculates         the total revenue per year and per cohort.\n"
      ],
      "text/plain": [
       "<IPython.core.display.Markdown object>"
      ]
     },
     "metadata": {},
     "output_type": "display_data"
    },
    {
     "data": {
      "text/html": [
       "<style  type=\"text/css\" >\n",
       "</style><table id=\"T_5c6beb1d_671a_11eb_9eee_f48c50bdd08e\" ><caption>Total Revenue by Year</caption><thead>    <tr>        <th class=\"blank level0\" ></th>        <th class=\"col_heading level0 col0\" >0</th>        <th class=\"col_heading level0 col1\" >1</th>        <th class=\"col_heading level0 col2\" >2</th>        <th class=\"col_heading level0 col3\" >3</th>        <th class=\"col_heading level0 col4\" >4</th>        <th class=\"col_heading level0 col5\" >5</th>        <th class=\"col_heading level0 col6\" >6</th>    </tr>    <tr>        <th class=\"index_name level0\" >Cohort</th>        <th class=\"blank\" ></th>        <th class=\"blank\" ></th>        <th class=\"blank\" ></th>        <th class=\"blank\" ></th>        <th class=\"blank\" ></th>        <th class=\"blank\" ></th>        <th class=\"blank\" ></th>    </tr></thead><tbody>\n",
       "                <tr>\n",
       "                        <th id=\"T_5c6beb1d_671a_11eb_9eee_f48c50bdd08elevel0_row0\" class=\"row_heading level0 row0\" >0</th>\n",
       "                        <td id=\"T_5c6beb1d_671a_11eb_9eee_f48c50bdd08erow0_col0\" class=\"data row0 col0\" >500,000</td>\n",
       "                        <td id=\"T_5c6beb1d_671a_11eb_9eee_f48c50bdd08erow0_col1\" class=\"data row0 col1\" >1,000,000</td>\n",
       "                        <td id=\"T_5c6beb1d_671a_11eb_9eee_f48c50bdd08erow0_col2\" class=\"data row0 col2\" >750,000</td>\n",
       "                        <td id=\"T_5c6beb1d_671a_11eb_9eee_f48c50bdd08erow0_col3\" class=\"data row0 col3\" >1,000,000</td>\n",
       "                        <td id=\"T_5c6beb1d_671a_11eb_9eee_f48c50bdd08erow0_col4\" class=\"data row0 col4\" >0</td>\n",
       "                        <td id=\"T_5c6beb1d_671a_11eb_9eee_f48c50bdd08erow0_col5\" class=\"data row0 col5\" >0</td>\n",
       "                        <td id=\"T_5c6beb1d_671a_11eb_9eee_f48c50bdd08erow0_col6\" class=\"data row0 col6\" >0</td>\n",
       "            </tr>\n",
       "            <tr>\n",
       "                        <th id=\"T_5c6beb1d_671a_11eb_9eee_f48c50bdd08elevel0_row1\" class=\"row_heading level0 row1\" >1</th>\n",
       "                        <td id=\"T_5c6beb1d_671a_11eb_9eee_f48c50bdd08erow1_col0\" class=\"data row1 col0\" >0</td>\n",
       "                        <td id=\"T_5c6beb1d_671a_11eb_9eee_f48c50bdd08erow1_col1\" class=\"data row1 col1\" >250,000</td>\n",
       "                        <td id=\"T_5c6beb1d_671a_11eb_9eee_f48c50bdd08erow1_col2\" class=\"data row1 col2\" >1,000,000</td>\n",
       "                        <td id=\"T_5c6beb1d_671a_11eb_9eee_f48c50bdd08erow1_col3\" class=\"data row1 col3\" >750,000</td>\n",
       "                        <td id=\"T_5c6beb1d_671a_11eb_9eee_f48c50bdd08erow1_col4\" class=\"data row1 col4\" >1,000,000</td>\n",
       "                        <td id=\"T_5c6beb1d_671a_11eb_9eee_f48c50bdd08erow1_col5\" class=\"data row1 col5\" >0</td>\n",
       "                        <td id=\"T_5c6beb1d_671a_11eb_9eee_f48c50bdd08erow1_col6\" class=\"data row1 col6\" >0</td>\n",
       "            </tr>\n",
       "            <tr>\n",
       "                        <th id=\"T_5c6beb1d_671a_11eb_9eee_f48c50bdd08elevel0_row2\" class=\"row_heading level0 row2\" >2</th>\n",
       "                        <td id=\"T_5c6beb1d_671a_11eb_9eee_f48c50bdd08erow2_col0\" class=\"data row2 col0\" >0</td>\n",
       "                        <td id=\"T_5c6beb1d_671a_11eb_9eee_f48c50bdd08erow2_col1\" class=\"data row2 col1\" >0</td>\n",
       "                        <td id=\"T_5c6beb1d_671a_11eb_9eee_f48c50bdd08erow2_col2\" class=\"data row2 col2\" >250,000</td>\n",
       "                        <td id=\"T_5c6beb1d_671a_11eb_9eee_f48c50bdd08erow2_col3\" class=\"data row2 col3\" >1,000,000</td>\n",
       "                        <td id=\"T_5c6beb1d_671a_11eb_9eee_f48c50bdd08erow2_col4\" class=\"data row2 col4\" >750,000</td>\n",
       "                        <td id=\"T_5c6beb1d_671a_11eb_9eee_f48c50bdd08erow2_col5\" class=\"data row2 col5\" >1,000,000</td>\n",
       "                        <td id=\"T_5c6beb1d_671a_11eb_9eee_f48c50bdd08erow2_col6\" class=\"data row2 col6\" >0</td>\n",
       "            </tr>\n",
       "            <tr>\n",
       "                        <th id=\"T_5c6beb1d_671a_11eb_9eee_f48c50bdd08elevel0_row3\" class=\"row_heading level0 row3\" >3</th>\n",
       "                        <td id=\"T_5c6beb1d_671a_11eb_9eee_f48c50bdd08erow3_col0\" class=\"data row3 col0\" >0</td>\n",
       "                        <td id=\"T_5c6beb1d_671a_11eb_9eee_f48c50bdd08erow3_col1\" class=\"data row3 col1\" >0</td>\n",
       "                        <td id=\"T_5c6beb1d_671a_11eb_9eee_f48c50bdd08erow3_col2\" class=\"data row3 col2\" >0</td>\n",
       "                        <td id=\"T_5c6beb1d_671a_11eb_9eee_f48c50bdd08erow3_col3\" class=\"data row3 col3\" >375,000</td>\n",
       "                        <td id=\"T_5c6beb1d_671a_11eb_9eee_f48c50bdd08erow3_col4\" class=\"data row3 col4\" >1,000,000</td>\n",
       "                        <td id=\"T_5c6beb1d_671a_11eb_9eee_f48c50bdd08erow3_col5\" class=\"data row3 col5\" >1,500,000</td>\n",
       "                        <td id=\"T_5c6beb1d_671a_11eb_9eee_f48c50bdd08erow3_col6\" class=\"data row3 col6\" >1,000,000</td>\n",
       "            </tr>\n",
       "            <tr>\n",
       "                        <th id=\"T_5c6beb1d_671a_11eb_9eee_f48c50bdd08elevel0_row4\" class=\"row_heading level0 row4\" >4</th>\n",
       "                        <td id=\"T_5c6beb1d_671a_11eb_9eee_f48c50bdd08erow4_col0\" class=\"data row4 col0\" >0</td>\n",
       "                        <td id=\"T_5c6beb1d_671a_11eb_9eee_f48c50bdd08erow4_col1\" class=\"data row4 col1\" >0</td>\n",
       "                        <td id=\"T_5c6beb1d_671a_11eb_9eee_f48c50bdd08erow4_col2\" class=\"data row4 col2\" >0</td>\n",
       "                        <td id=\"T_5c6beb1d_671a_11eb_9eee_f48c50bdd08erow4_col3\" class=\"data row4 col3\" >0</td>\n",
       "                        <td id=\"T_5c6beb1d_671a_11eb_9eee_f48c50bdd08erow4_col4\" class=\"data row4 col4\" >500,000</td>\n",
       "                        <td id=\"T_5c6beb1d_671a_11eb_9eee_f48c50bdd08erow4_col5\" class=\"data row4 col5\" >1,500,000</td>\n",
       "                        <td id=\"T_5c6beb1d_671a_11eb_9eee_f48c50bdd08erow4_col6\" class=\"data row4 col6\" >1,500,000</td>\n",
       "            </tr>\n",
       "            <tr>\n",
       "                        <th id=\"T_5c6beb1d_671a_11eb_9eee_f48c50bdd08elevel0_row5\" class=\"row_heading level0 row5\" >5</th>\n",
       "                        <td id=\"T_5c6beb1d_671a_11eb_9eee_f48c50bdd08erow5_col0\" class=\"data row5 col0\" >0</td>\n",
       "                        <td id=\"T_5c6beb1d_671a_11eb_9eee_f48c50bdd08erow5_col1\" class=\"data row5 col1\" >0</td>\n",
       "                        <td id=\"T_5c6beb1d_671a_11eb_9eee_f48c50bdd08erow5_col2\" class=\"data row5 col2\" >0</td>\n",
       "                        <td id=\"T_5c6beb1d_671a_11eb_9eee_f48c50bdd08erow5_col3\" class=\"data row5 col3\" >0</td>\n",
       "                        <td id=\"T_5c6beb1d_671a_11eb_9eee_f48c50bdd08erow5_col4\" class=\"data row5 col4\" >0</td>\n",
       "                        <td id=\"T_5c6beb1d_671a_11eb_9eee_f48c50bdd08erow5_col5\" class=\"data row5 col5\" >750,000</td>\n",
       "                        <td id=\"T_5c6beb1d_671a_11eb_9eee_f48c50bdd08erow5_col6\" class=\"data row5 col6\" >2,000,000</td>\n",
       "            </tr>\n",
       "            <tr>\n",
       "                        <th id=\"T_5c6beb1d_671a_11eb_9eee_f48c50bdd08elevel0_row6\" class=\"row_heading level0 row6\" >6</th>\n",
       "                        <td id=\"T_5c6beb1d_671a_11eb_9eee_f48c50bdd08erow6_col0\" class=\"data row6 col0\" >0</td>\n",
       "                        <td id=\"T_5c6beb1d_671a_11eb_9eee_f48c50bdd08erow6_col1\" class=\"data row6 col1\" >0</td>\n",
       "                        <td id=\"T_5c6beb1d_671a_11eb_9eee_f48c50bdd08erow6_col2\" class=\"data row6 col2\" >0</td>\n",
       "                        <td id=\"T_5c6beb1d_671a_11eb_9eee_f48c50bdd08erow6_col3\" class=\"data row6 col3\" >0</td>\n",
       "                        <td id=\"T_5c6beb1d_671a_11eb_9eee_f48c50bdd08erow6_col4\" class=\"data row6 col4\" >0</td>\n",
       "                        <td id=\"T_5c6beb1d_671a_11eb_9eee_f48c50bdd08erow6_col5\" class=\"data row6 col5\" >0</td>\n",
       "                        <td id=\"T_5c6beb1d_671a_11eb_9eee_f48c50bdd08erow6_col6\" class=\"data row6 col6\" >0</td>\n",
       "            </tr>\n",
       "            <tr>\n",
       "                        <th id=\"T_5c6beb1d_671a_11eb_9eee_f48c50bdd08elevel0_row7\" class=\"row_heading level0 row7\" >Sum of Revenue</th>\n",
       "                        <td id=\"T_5c6beb1d_671a_11eb_9eee_f48c50bdd08erow7_col0\" class=\"data row7 col0\" >500,000</td>\n",
       "                        <td id=\"T_5c6beb1d_671a_11eb_9eee_f48c50bdd08erow7_col1\" class=\"data row7 col1\" >1,250,000</td>\n",
       "                        <td id=\"T_5c6beb1d_671a_11eb_9eee_f48c50bdd08erow7_col2\" class=\"data row7 col2\" >2,000,000</td>\n",
       "                        <td id=\"T_5c6beb1d_671a_11eb_9eee_f48c50bdd08erow7_col3\" class=\"data row7 col3\" >3,125,000</td>\n",
       "                        <td id=\"T_5c6beb1d_671a_11eb_9eee_f48c50bdd08erow7_col4\" class=\"data row7 col4\" >3,250,000</td>\n",
       "                        <td id=\"T_5c6beb1d_671a_11eb_9eee_f48c50bdd08erow7_col5\" class=\"data row7 col5\" >4,750,000</td>\n",
       "                        <td id=\"T_5c6beb1d_671a_11eb_9eee_f48c50bdd08erow7_col6\" class=\"data row7 col6\" >4,500,000</td>\n",
       "            </tr>\n",
       "    </tbody></table>"
      ],
      "text/plain": [
       "<pandas.io.formats.style.Styler at 0x891f0a0>"
      ]
     },
     "metadata": {},
     "output_type": "display_data"
    }
   ],
   "source": [
    "myTable = CohortTable(forecast_period=7, n_years=4, hires_per_year=[2,2,2,3,4,6], \\\n",
    "                      revenue_goal=1000000, annual_attrition=.16, first_year_full_hire=True, attrition_y0=True)\n",
    "\n",
    "myTable.print_all_tables()"
   ]
  },
  {
   "cell_type": "code",
   "execution_count": 67,
   "metadata": {},
   "outputs": [
    {
     "data": {
      "image/png": "[encoded data removed]",
      "text/plain": [
       "<Figure size 432x288 with 1 Axes>"
      ]
     },
     "metadata": {
      "needs_background": "light"
     },
     "output_type": "display_data"
    }
   ],
   "source": [
    "ax = myTable.revenue_df.loc['Sum of Revenue'].plot(kind='bar', title='Revenue by Year')\n",
    "ax.set_xlabel('Year')\n",
    "ax.set_ylabel('Revenue')\n",
    "ax.yaxis.set_major_formatter(FuncFormatter('{0:,.0f}'.format))"
   ]
  }
 ],
 "metadata": {
  "kernelspec": {
   "display_name": "Python 3",
   "language": "python",
   "name": "python3"
  },
  "language_info": {
   "codemirror_mode": {
    "name": "ipython",
    "version": 3
   },
   "file_extension": ".py",
   "mimetype": "text/x-python",
   "name": "python",
   "nbconvert_exporter": "python",
   "pygments_lexer": "ipython3",
   "version": "3.8.5"
  }
 },
 "nbformat": 4,
 "nbformat_minor": 4
}
